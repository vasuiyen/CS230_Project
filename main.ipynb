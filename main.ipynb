{
  "nbformat": 4,
  "nbformat_minor": 0,
  "metadata": {
    "colab": {
      "name": "main.ipynb",
      "provenance": [],
      "authorship_tag": "ABX9TyOplPBRp2tpTjNfdBuN3nfZ"
    },
    "kernelspec": {
      "name": "python3",
      "display_name": "Python 3"
    },
    "language_info": {
      "name": "python"
    }
  },
  "cells": [
    {
      "cell_type": "code",
      "metadata": {
        "id": "YwVZHkUaNSUD"
      },
      "source": [
        "# Necessary packages\n",
        "from __future__ import absolute_import\n",
        "from __future__ import division\n",
        "from __future__ import print_function\n",
        "\n",
        "import argparse\n",
        "import warnings\n",
        "warnings.filterwarnings(\"ignore\")\n",
        "\n",
        "#from data_loader import data_loader\n",
        "#from basic_rnn_lstm_gru import GeneralRNN\n",
        "#from basic_attention import Attention\n",
        "#from utils import performance\n",
        "\n",
        "\n",
        "def main (args):  \n",
        "  \"\"\"Time-series prediction main function.\n",
        "  \n",
        "  Args:\n",
        "    - train_rate: training data ratio\n",
        "    - seq_len: sequence length\n",
        "    - task: classification or regression\n",
        "    - model_type: rnn, lstm, gru, or attention\n",
        "    - h_dim: hidden state dimensions\n",
        "    - n_layer: number of layers\n",
        "    - batch_size: the number of samples in each mini-batch\n",
        "    - epoch: the number of iterations\n",
        "    - learning_rate: learning rates\n",
        "    - metric_name: mse or mae\n",
        "  \"\"\"\n",
        "  # Load data\n",
        "  train_x, train_y, test_x, test_y = data_loader(args.train_rate, \n",
        "                                                 args.seq_len)\n",
        "  \n",
        "  # Model traininig / testing\n",
        "  model_parameters = {'task': args.task,\n",
        "                      'model_type': args.model_type,\n",
        "                      'h_dim': args.h_dim,\n",
        "                      'n_layer': args.n_layer,\n",
        "                      'batch_size': args.batch_size,\n",
        "                      'epoch': args.epoch,\n",
        "                      'learning_rate': args.learning_rate}\n",
        "  \n",
        "  if args.model_type in ['rnn','lstm','gru']:\n",
        "    general_rnn = GeneralRNN(model_parameters)    \n",
        "    general_rnn.fit(train_x, train_y)\n",
        "    test_y_hat = general_rnn.predict(test_x)\n",
        "  elif args.model_type == 'attention':\n",
        "    basic_attention = Attention(model_parameters)    \n",
        "    basic_attention.fit(train_x, train_y)\n",
        "    test_y_hat = basic_attention.predict(test_x)\n",
        "  \n",
        "  # Evaluation\n",
        "  result = performance(test_y, test_y_hat, args.metric_name)\n",
        "  print('Performance (' + args.metric_name + '): ' + str(result))\n",
        "  \n",
        "    \n",
        "##  \n",
        "if __name__ == '__main__':\n",
        "  args = args()\n",
        "  # Call main function  \n",
        "  main(args)"
      ],
      "execution_count": null,
      "outputs": []
    }
  ]
}