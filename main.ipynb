{
  "nbformat": 4,
  "nbformat_minor": 0,
  "metadata": {
    "colab": {
      "name": "main.ipynb",
      "provenance": [],
      "collapsed_sections": [],
      "authorship_tag": "ABX9TyNOjeKzqaEN20S3cpKt/4ra"
    },
    "kernelspec": {
      "name": "python3",
      "display_name": "Python 3"
    },
    "language_info": {
      "name": "python"
    }
  },
  "cells": [
    {
      "cell_type": "code",
      "metadata": {
        "id": "KqMbgKnWfl7M"
      },
      "source": [
        "import argparse\n",
        "import warnings\n",
        "warnings.filterwarnings(\"ignore\")\n",
        "\n",
        "def main (args):  \n",
        "\n",
        "  # Load data\n",
        "  directory = \"/content/drive/MyDrive/CS230_Project/ControlData/Trials/\"\n",
        "  X_train, Y_train, X_test, Y_test = data_initialize(directory)\n",
        "  \n",
        "  # Model traininig / testing\n",
        "  model_parameters = {'task': args.task,\n",
        "                      'model_type': args.model_type,\n",
        "                      'h_dim': args.h_dim,\n",
        "                      'n_layer': args.n_layer,\n",
        "                      'batch_size': args.batch_size,\n",
        "                      'epoch': args.epoch,\n",
        "                      'learning_rate': args.learning_rate}\n",
        "  \n",
        "  if args.model_type in ['rnn','lstm','gru']:\n",
        "    general_rnn = GeneralRNN(model_parameters)    \n",
        "    out = general_rnn.fit(X_train, Y_train, X_test, Y_test)\n",
        "  \n",
        "  # Evaluation\n",
        "  loss_graph(out, args.epoch)\n",
        "  acc_graph(out, args.epoch)\n",
        "  misc_graph(X1) \n",
        "    \n",
        "##  \n",
        "if __name__ == '__main__':\n",
        "  args = args()\n",
        "  # Call main function  \n",
        "  main(args)"
      ],
      "execution_count": null,
      "outputs": []
    }
  ]
}