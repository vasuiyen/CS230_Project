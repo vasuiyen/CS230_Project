{
  "nbformat": 4,
  "nbformat_minor": 0,
  "metadata": {
    "colab": {
      "name": "utils.ipynb",
      "provenance": [],
      "collapsed_sections": [],
      "authorship_tag": "ABX9TyNHDgNykw940PP9O85Cn7SP"
    },
    "kernelspec": {
      "name": "python3",
      "display_name": "Python 3"
    },
    "language_info": {
      "name": "python"
    }
  },
  "cells": [
    {
      "cell_type": "code",
      "metadata": {
        "id": "KqMbgKnWfl7M"
      },
      "source": [
        "import numpy as np\n",
        "from sklearn.metrics import mean_squared_error, mean_absolute_error\n",
        "import tensorflow as tf\n",
        "from tensorflow.keras import layers\n",
        "\n",
        "def load_dataset(directory, nrows):\n",
        "  X = []\n",
        "  Y = [0]*33 + [1]*33 + [2]*33\n",
        "  minrow = 35000\n",
        "  files = os.listdir(directory)\n",
        "  files.sort() # puts files in alpha-numeric order\n",
        "  for file in files:\n",
        "    X.append(pd.read_csv(os.path.join(directory,file),nrows=nrows))\n",
        "  assert(len(X) == len(Y))\n",
        "  return X, Y\n",
        "\n",
        "## Loss Graph\n",
        "def load_dataset(modelOut, epochs):\n",
        "    loss_train = modelOut.history['loss']\n",
        "    loss_val = modelOut.history['val_loss']\n",
        "    epochs = range(1,epochs)\n",
        "    plt.plot(epochs, loss_train, 'g', label='Training loss')\n",
        "    plt.plot(epochs, loss_val, 'b', label='validation loss')\n",
        "    plt.title('Training and Validation loss')\n",
        "    plt.xlabel('Epochs')\n",
        "    plt.ylabel('Loss')\n",
        "    plt.legend()\n",
        "    plt.show()\n",
        "\n",
        "## Accuracy Graph\n",
        "def load_dataset(modelOut, epochs):\n",
        "    loss_train = modelOut.history['accuracy']\n",
        "    loss_val = modelOut.history['val_accuracy']\n",
        "    epochs = range(1,epochs)\n",
        "    plt.plot(epochs, loss_train, 'g', label='Training accuracy')\n",
        "    plt.plot(epochs, loss_val, 'b', label='validation accuracy')\n",
        "    plt.title('Training and Validation accuracy')\n",
        "    plt.xlabel('Epochs')\n",
        "    plt.ylabel('Accuracy')\n",
        "    plt.legend()\n",
        "    plt.show()    "
      ],
      "execution_count": null,
      "outputs": []
    }
  ]
}