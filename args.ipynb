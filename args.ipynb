{
  "nbformat": 4,
  "nbformat_minor": 0,
  "metadata": {
    "colab": {
      "name": "args.ipynb",
      "provenance": [],
      "collapsed_sections": [],
      "authorship_tag": "ABX9TyMeznnJEBa1LADPZXiFNeVW"
    },
    "kernelspec": {
      "name": "python3",
      "display_name": "Python 3"
    },
    "language_info": {
      "name": "python"
    }
  },
  "cells": [
    {
      "cell_type": "code",
      "metadata": {
        "id": "KqMbgKnWfl7M"
      },
      "source": [
        "# Inputs for the main function\n",
        "def args():\n",
        "  parser = argparse.ArgumentParser()\n",
        "  parser.add_argument('--model_type',choices=['rnn','gru','lstm'],default='lstm',type=str)\n",
        "  parser.add_argument('--h_dim',default=10,type=int)\n",
        "  parser.add_argument('--n_layer',default=3,type=int)\n",
        "  parser.add_argument('--batch_size',default=32,type=int)\n",
        "  parser.add_argument('--epoch',default=10,type=int)\n",
        "  parser.add_argument('--learning_rate',default=0.01,type=float)\n",
        "  parser.add_argument('--task',choices=['classification','regression'],default='classification',type=str)\n",
        "  parser.add_argument('--metric_name',choices=['categorical_crossentropy'],default='categorical_crossentropy',type=str)\n",
        "  parser.add_argument(\"-f\", \"--fff\", help=\"a dummy argument to fool ipython\", default=\"1\")\n",
        "\n",
        "  args = parser.parse_args() \n",
        "  return args"
      ],
      "execution_count": null,
      "outputs": []
    }
  ]
}