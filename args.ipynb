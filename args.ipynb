{
  "nbformat": 4,
  "nbformat_minor": 0,
  "metadata": {
    "colab": {
      "name": "args.ipynb",
      "provenance": [],
      "collapsed_sections": [],
      "authorship_tag": "ABX9TyO8G2cHY1NlIcHHhdni/kma"
    },
    "kernelspec": {
      "name": "python3",
      "display_name": "Python 3"
    },
    "language_info": {
      "name": "python"
    }
  },
  "cells": [
    {
      "cell_type": "code",
      "metadata": {
        "id": "zSCs-SoNMUQZ"
      },
      "source": [
        "# Inputs for the main function\n",
        "parser = argparse.ArgumentParser()\n",
        "parser.add_argument('--train_rate',help='training data ratio',default=0.8,type=str)\n",
        "parser.add_argument('--seq_len',help='sequence length',default=7,type=int)\n",
        "parser.add_argument('--model_type',choices=['rnn','gru','lstm','attention'],default='rnn',type=str)\n",
        "parser.add_argument('--h_dim',default=10,type=int)\n",
        "parser.add_argument('--n_layer',default=3,type=int)\n",
        "parser.add_argument('--batch_size',default=32,type=int)\n",
        "parser.add_argument('--epoch',default=15,type=int)\n",
        "parser.add_argument('--learning_rate',default=0.01,type=float)\n",
        "parser.add_argument('--task',choices=['classification','regression'],default='classification',type=str)\n",
        "parser.add_argument('--metric_name',choices=['mse','mae'],default='mse',type=str)\n",
        "parser.add_argument(\"-f\", \"--fff\", help=\"a dummy argument to fool ipython\", default=\"1\")\n",
        "\n",
        "print(\"Start Argument Parsing\")\n",
        "args = parser.parse_args() \n",
        "print(\"Before Calling main\")"
      ],
      "execution_count": null,
      "outputs": []
    }
  ]
}