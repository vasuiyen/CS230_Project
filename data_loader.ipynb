{
  "nbformat": 4,
  "nbformat_minor": 0,
  "metadata": {
    "colab": {
      "name": "data_loader.ipynb",
      "provenance": [],
      "collapsed_sections": [],
      "authorship_tag": "ABX9TyNYfjQGFEJoexTRHutYy4/g"
    },
    "kernelspec": {
      "name": "python3",
      "display_name": "Python 3"
    },
    "language_info": {
      "name": "python"
    }
  },
  "cells": [
    {
      "cell_type": "code",
      "metadata": {
        "id": "KqMbgKnWfl7M"
      },
      "source": [
        "def data_initialize(directory):\n",
        "  X, Y = load_dataset(directory, 36000)\n",
        "  \n",
        "  ## Sample Run Parameters\n",
        "  sample_period = 20 # downsample 1 out of every 20 time steps, 1000 Hz (original) => 50 Hz (sampled)\n",
        "  window_size = 50 # 1 second of data   \n",
        "  train_rate = 0.8\n",
        "\n",
        "  X_1s = []\n",
        "  Y_1s = []\n",
        "  trial_idx = 0\n",
        "  X_1s_predict = [] # used for computing maneuver predictions from trained model\n",
        "  for x in X:\n",
        "    x_1s_predict = []\n",
        "    x_sampled = x.iloc[::sample_period, 1:] # downsampling and removing time column data \n",
        "    for t in range(window_size-1, x_sampled.shape[0]): # creating sliding windows of data\n",
        "        x_window = x_sampled.iloc[t-(window_size-1):t+1, :]\n",
        "        X_1s.append(x_window)\n",
        "        Y_1s.append(Y[trial_idx]) # storing correct maneuver label in larger Y_1s list\n",
        "        x_1s_predict.append(x_window) # keeping data for each trial separate in X_1s_predict list\n",
        "        X_1s_predict.append(x_1s_predict)\n",
        "        trial_idx += 1\n",
        "\n",
        "  assert(len(X_1s) == len(Y_1s))\n",
        "  num_total_samples = len(X_1s)\n",
        "\n",
        "  # checking indexing on Y labels\n",
        "  length_third = int(len(Y_1s)/3)\n",
        "  assert(Y_1s[0:length_third].count(0) == len(Y_1s[0:length_third]))\n",
        "  assert(Y_1s[length_third:2*length_third].count(1) == len(Y_1s[length_third:2*length_third]))\n",
        "  assert(Y_1s[2*length_third:].count(2) == len(Y_1s[2*length_third:]))\n",
        "\n",
        "  X_1s_shuffled, Y_1s_shuffled = shuffle(X_1s, Y_1s) \n",
        "\n",
        "  X_train = X_1s_shuffled[0:int(train_rate*num_total_samples)]\n",
        "  Y_train = Y_1s_shuffled[0:int(train_rate*num_total_samples)]\n",
        "  X_test = X_1s_shuffled[int(train_rate*num_total_samples):]\n",
        "  Y_test = Y_1s_shuffled[int(train_rate*num_total_samples):]\n",
        "  assert(len(X_train)+len(X_test) == num_total_samples)\n",
        "  assert(len(Y_train)+len(Y_test) == num_total_samples)\n",
        "\n",
        "  X_train = np.array(X_train).reshape(len(X_train), X_train[0].shape[0], X_train[0].shape[1])\n",
        "  X_test  = np.array(X_test).reshape(len(X_test), X_test[0].shape[0], X_test[0].shape[1])\n",
        "  Y_train = to_categorical(np.array(Y_train).reshape(len(Y_train), 1))\n",
        "  Y_test  = to_categorical(np.array(Y_test).reshape(len(Y_test), 1)) \n",
        " \n",
        "  return X_train, Y_train, X_test, Y_test, X_1s_predict"
      ],
      "execution_count": null,
      "outputs": []
    }
  ]
}