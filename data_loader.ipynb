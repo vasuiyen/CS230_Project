{
  "nbformat": 4,
  "nbformat_minor": 0,
  "metadata": {
    "colab": {
      "name": "data_loader.ipynb",
      "provenance": [],
      "collapsed_sections": [],
      "authorship_tag": "ABX9TyOI3fZPLiND4XBuvz1k45YH"
    },
    "kernelspec": {
      "name": "python3",
      "display_name": "Python 3"
    },
    "language_info": {
      "name": "python"
    }
  },
  "cells": [
    {
      "cell_type": "code",
      "metadata": {
        "id": "u-N4P0yXL5rf"
      },
      "source": [
        "def data_loader(train_rate = 0.8, seq_len = 7):\n",
        "  \"\"\"Loads Google stock data.\n",
        "  \n",
        "  Args:\n",
        "    - train_rate: the ratio between training and testing sets\n",
        "    - seq_len: sequence length\n",
        "    \n",
        "  Returns:\n",
        "    - train_x: training feature\n",
        "    - train_y: training labels\n",
        "    - test_x: testing features\n",
        "    - test_y: testing labels\n",
        "  \"\"\"\n",
        "  \n",
        "  # Load data\n",
        "  ori_data = np.loadtxt('/content/drive/MyDrive/CS230_Project/ControlData/Trials/aggressive_overtake_1.csv', delimiter=',', skiprows = 1)\n",
        "  # Reverse the time order\n",
        "  print(\"ori data :\",ori_data)\n",
        "  reverse_data = ori_data[::-1]\n",
        "  print(\"reverse data :\", reverse_data)  \n",
        "  # Normalization\n",
        "  norm_data = MinMaxScaler(reverse_data)\n",
        "  print(\"norm data :\", norm_data)    \n",
        "    \n",
        "  # Build dataset\n",
        "  data_x = []\n",
        "  data_y = []\n",
        "  \n",
        "  for i in range(0, len(norm_data[:,0]) - seq_len):\n",
        "    # Previous seq_len data as features\n",
        "    temp_x = norm_data[i:i + seq_len,:]\n",
        "    # Values at next time point as labels\n",
        "    temp_y = norm_data[i + seq_len, [-1]]\n",
        "    data_x = data_x + [temp_x]\n",
        "    data_y = data_y + [temp_y]\n",
        "    \n",
        "  data_x = np.asarray(data_x)\n",
        "  data_y = np.asarray(data_y)\n",
        "            \n",
        "  # Train / test Division   \n",
        "  idx = np.random.permutation(len(data_x))\n",
        "  train_idx = idx[:int(train_rate * len(data_x))]\n",
        "  test_idx = idx[int(train_rate * len(data_x)):]\n",
        "        \n",
        "  train_x, test_x = data_x[train_idx, :, :], data_x[test_idx, :, :]\n",
        "  train_y, test_y = data_y[train_idx, :], data_y[test_idx, :]\n",
        "    \n",
        "  return train_x, train_y, test_x, test_y"
      ],
      "execution_count": null,
      "outputs": []
    }
  ]
}