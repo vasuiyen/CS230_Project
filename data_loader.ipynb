{
  "nbformat": 4,
  "nbformat_minor": 0,
  "metadata": {
    "colab": {
      "name": "data_loader.ipynb",
      "provenance": [],
      "collapsed_sections": [],
      "authorship_tag": "ABX9TyOg2LpUUM0QgVVkN0OleMn4"
    },
    "kernelspec": {
      "name": "python3",
      "display_name": "Python 3"
    },
    "language_info": {
      "name": "python"
    }
  },
  "cells": [
    {
      "cell_type": "code",
      "metadata": {
        "id": "KqMbgKnWfl7M"
      },
      "source": [
        "def data_initialize(directory):\n",
        "\tX, Y = load_dataset(directory, 36000)\n",
        "  \n",
        "  ## Sample Run Parameters\n",
        "  sample_period = 20 # downsample 1 out of every 20 time steps, 1000 Hz (original) => 50 Hz (sampled)\n",
        "\twindow_size = 50 # 1 second of data   \n",
        "\ttrain_rate = 0.8\n",
        "\n",
        "\tX_1s = []\n",
        "\tY_1s = []\n",
        "\ttrial_idx = 0\n",
        "\tX_1s_predict = [] # used for computing maneuver predictions from trained model\n",
        "\tfor x in X:\n",
        "\t  x_1s_predict = []\n",
        "\t  x_sampled = x.iloc[::sample_period, 1:] # downsampling and removing time column data \n",
        "\t  for t in range(window_size-1, x_sampled.shape[0]): # creating sliding windows of data\n",
        "\t\tx_window = x_sampled.iloc[t-(window_size-1):t+1, :]\n",
        "\t\tX_1s.append(x_window)\n",
        "\t\tY_1s.append(Y[trial_idx]) # storing correct maneuver label in larger Y_1s list\n",
        "\t\tx_1s_predict.append(x_window) # keeping data for each trial separate in X_1s_predict list\n",
        "\t  X_1s_predict.append(x_1s_predict)\n",
        "\t  trial_idx += 1\n",
        "\n",
        "\t# note, using iloc above to index pandas dataframe as described here: \n",
        "\t# https://pandas.pydata.org/pandas-docs/stable/reference/api/pandas.DataFrame.iloc.html  \n",
        "\n",
        "\tassert(len(X_1s) == len(Y_1s))\n",
        "\tnum_total_samples = len(X_1s)\n",
        "\n",
        "\t# checking indexing on Y labels\n",
        "\tlength_third = int(len(Y_1s)/3)\n",
        "\tassert(Y_1s[0:length_third].count(0) == len(Y_1s[0:length_third]))\n",
        "\tassert(Y_1s[length_third:2*length_third].count(1) == len(Y_1s[length_third:2*length_third]))\n",
        "\tassert(Y_1s[2*length_third:].count(2) == len(Y_1s[2*length_third:]))\n",
        "\n",
        "\t# https://stackoverflow.com/questions/11765061/better-way-to-shuffle-two-related-lists\n",
        "\tX_1s_shuffled, Y_1s_shuffled = shuffle(X_1s, Y_1s) \n",
        "\n",
        "\tX_train = X_1s_shuffled[0:int(train_rate*num_total_samples)]\n",
        "\tY_train = Y_1s_shuffled[0:int(train_rate*num_total_samples)]\n",
        "\tX_test = X_1s_shuffled[int(train_rate*num_total_samples):]\n",
        "\tY_test = Y_1s_shuffled[int(train_rate*num_total_samples):]\n",
        "\tassert(len(X_train)+len(X_test) == num_total_samples)\n",
        "\tassert(len(Y_train)+len(Y_test) == num_total_samples)\n",
        "\n",
        "\tX_train = np.array(X_train).reshape(len(X_train), X_train[0].shape[0], X_train[0].shape[1])\n",
        "\tX_test  = np.array(X_test).reshape(len(X_test), X_test[0].shape[0], X_test[0].shape[1])\n",
        "\tY_train = to_categorical(np.array(Y_train).reshape(len(Y_train), 1))\n",
        "\tY_test  = to_categorical(np.array(Y_test).reshape(len(Y_test), 1))    "
      ],
      "execution_count": null,
      "outputs": []
    }
  ]
}